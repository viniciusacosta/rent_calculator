{
  "nbformat": 4,
  "nbformat_minor": 0,
  "metadata": {
    "colab": {
      "name": "webscrapping.ipynb",
      "provenance": [],
      "collapsed_sections": [],
      "authorship_tag": "ABX9TyPuHhP60FHivqgJ1Jwj1OOw",
      "include_colab_link": true
    },
    "kernelspec": {
      "name": "python3",
      "display_name": "Python 3"
    },
    "language_info": {
      "name": "python"
    }
  },
  "cells": [
    {
      "cell_type": "markdown",
      "metadata": {
        "id": "view-in-github",
        "colab_type": "text"
      },
      "source": [
        "<a href=\"https://colab.research.google.com/github/viniciusacosta/rent_calculator/blob/main/webscrapping.ipynb\" target=\"_parent\"><img src=\"https://colab.research.google.com/assets/colab-badge.svg\" alt=\"Open In Colab\"/></a>"
      ]
    },
    {
      "cell_type": "code",
      "source": [
        "!pip install selenium\n",
        "!pip install unidecode\n",
        "!apt-get update \n",
        "!apt install chromium-chromedriver"
      ],
      "metadata": {
        "id": "FeT95zqXqUbz"
      },
      "execution_count": null,
      "outputs": []
    },
    {
      "cell_type": "code",
      "execution_count": null,
      "metadata": {
        "id": "WBP_LCqSpqXW"
      },
      "outputs": [],
      "source": [
        "# Imports\n",
        "from selenium import webdriver\n",
        "from selenium.webdriver.common.by import By\n",
        "#from webdriver_manager.chrome import ChromeDriverManager\n",
        "import requests\n",
        "from bs4 import BeautifulSoup\n",
        "from time import sleep\n",
        "from selenium import webdriver\n",
        "from selenium.webdriver.chrome.options import Options\n",
        "import pandas as pd\n",
        "import unidecode\n",
        "from tqdm import tqdm\n",
        "from datetime import datetime"
      ]
    },
    {
      "cell_type": "code",
      "source": [
        "# Defining the driver\n",
        "chrome_options = webdriver.ChromeOptions()\n",
        "chrome_options.add_argument('--headless')\n",
        "chrome_options.add_argument('--no-sandbox')\n",
        "chrome_options.add_argument('--disable-dev-shm-usage')\n",
        "driver = webdriver.Chrome('chromedriver',chrome_options=chrome_options)"
      ],
      "metadata": {
        "colab": {
          "base_uri": "https://localhost:8080/"
        },
        "id": "k1VA_eNA-RfF",
        "outputId": "3dc43051-a4a4-4bc4-895b-0245f70aa6f1"
      },
      "execution_count": null,
      "outputs": [
        {
          "output_type": "stream",
          "name": "stderr",
          "text": [
            "/usr/local/lib/python3.7/dist-packages/ipykernel_launcher.py:6: DeprecationWarning: use options instead of chrome_options\n",
            "  \n"
          ]
        }
      ]
    },
    {
      "cell_type": "code",
      "source": [
        "estados = {       \n",
        "    'SErgipe': 'Aracaju', \n",
        "    'ALagoas': 'Maceió',\n",
        "    'AMazonas': 'Manaus',\n",
        "    'BAhia': 'Salvador',\n",
        "    'CEara': 'Fortaleza',\n",
        "    'PAraiba': 'João Pessoa',\n",
        "    'PErnambuco': 'Recife',\n",
        "    'Rio grande do Norte': 'Natal',\n",
        "    'ESpirito santo': 'Vitória',\n",
        "    'Minas Gerais': 'Belo Horizonte',\n",
        "    'Parana': 'Curitiba',\n",
        "    'RJ': 'Rio de Janeiro',\n",
        "    'Rio grande do Sul': 'Porto Alegre',\n",
        "    'Sp': 'São Paulo',\n",
        "    'Santa Catarina': 'Florianópolis',  \n",
        "    'Distrito Federal': 'Brasília',\n",
        "    'GOias': 'Goiânia'\n",
        "}\n"
      ],
      "metadata": {
        "id": "ENKuymMek2Ba"
      },
      "execution_count": null,
      "outputs": []
    },
    {
      "cell_type": "code",
      "source": [
        "url_br = {}\n",
        "for key, value in estados.items():\n",
        "  value = unidecode.unidecode(value).replace(' ', '-').lower()\n",
        "  key = unidecode.unidecode(key).replace(' ', '-').lower()\n",
        "  url = f\"https://www.vivareal.com.br/aluguel/{key.lower()}/{value}/apartamento_residencial/\"\n",
        "  url_br[value] = url\n",
        "\n",
        "url_br"
      ],
      "metadata": {
        "id": "vNsEPXWruIgo",
        "colab": {
          "base_uri": "https://localhost:8080/"
        },
        "outputId": "35fe0d79-0873-4625-caf1-cabdd7b6b542"
      },
      "execution_count": null,
      "outputs": [
        {
          "output_type": "execute_result",
          "data": {
            "text/plain": [
              "{'aracaju': 'https://www.vivareal.com.br/aluguel/sergipe/aracaju/apartamento_residencial/',\n",
              " 'belo-horizonte': 'https://www.vivareal.com.br/aluguel/minas-gerais/belo-horizonte/apartamento_residencial/',\n",
              " 'brasilia': 'https://www.vivareal.com.br/aluguel/distrito-federal/brasilia/apartamento_residencial/',\n",
              " 'curitiba': 'https://www.vivareal.com.br/aluguel/parana/curitiba/apartamento_residencial/',\n",
              " 'florianopolis': 'https://www.vivareal.com.br/aluguel/santa-catarina/florianopolis/apartamento_residencial/',\n",
              " 'fortaleza': 'https://www.vivareal.com.br/aluguel/ceara/fortaleza/apartamento_residencial/',\n",
              " 'goiania': 'https://www.vivareal.com.br/aluguel/goias/goiania/apartamento_residencial/',\n",
              " 'joao-pessoa': 'https://www.vivareal.com.br/aluguel/paraiba/joao-pessoa/apartamento_residencial/',\n",
              " 'maceio': 'https://www.vivareal.com.br/aluguel/alagoas/maceio/apartamento_residencial/',\n",
              " 'manaus': 'https://www.vivareal.com.br/aluguel/amazonas/manaus/apartamento_residencial/',\n",
              " 'natal': 'https://www.vivareal.com.br/aluguel/rio-grande-do-norte/natal/apartamento_residencial/',\n",
              " 'porto-alegre': 'https://www.vivareal.com.br/aluguel/rio-grande-do-sul/porto-alegre/apartamento_residencial/',\n",
              " 'recife': 'https://www.vivareal.com.br/aluguel/pernambuco/recife/apartamento_residencial/',\n",
              " 'rio-de-janeiro': 'https://www.vivareal.com.br/aluguel/rj/rio-de-janeiro/apartamento_residencial/',\n",
              " 'salvador': 'https://www.vivareal.com.br/aluguel/bahia/salvador/apartamento_residencial/',\n",
              " 'sao-paulo': 'https://www.vivareal.com.br/aluguel/sp/sao-paulo/apartamento_residencial/',\n",
              " 'vitoria': 'https://www.vivareal.com.br/aluguel/espirito-santo/vitoria/apartamento_residencial/'}"
            ]
          },
          "metadata": {},
          "execution_count": 31
        }
      ]
    },
    {
      "cell_type": "code",
      "source": [
        "#Criando a lista que irá armazenar todos os resultados\n",
        "results = []\n",
        "\n",
        "# Iniciando o for para iterar no dicionário de urls\n",
        "for bairro, url in url_br.items():\n",
        "    driver.get(url)\n",
        "    print(url)\n",
        "    \n",
        "    try:\n",
        "        driver.find_element_by_class_name(\"cookie-notifier__cta\").click()\n",
        "    except:\n",
        "        print(\"No cookies!\")\n",
        "    \n",
        "    for i in tqdm(range(30), desc=bairro):\n",
        "        main_div = driver.find_element_by_class_name(\"results-main__panel\")\n",
        "        properties = main_div.find_elements_by_class_name(\"js-property-card\")\n",
        "        paginator = driver.find_element_by_class_name(\"js-results-pagination\")\n",
        "        next_page = paginator.find_element_by_xpath('//*[@id=\"js-site-main\"]/div[2]/div[1]/section/div[2]/div[2]/div/ul/li[9]/button')\n",
        "        \n",
        "        for i, apartment in enumerate(properties):\n",
        "            \n",
        "            #Capturando o endereço do imóvel\n",
        "            try:\n",
        "                address = apartment.find_element_by_class_name(\"property-card__address\").text\n",
        "            except:\n",
        "                adress = None\n",
        "            #Capturando a área do imóvel\n",
        "            try:\n",
        "                area = apartment.find_element_by_class_name(\"js-property-card-detail-area\").text\n",
        "            except:\n",
        "                area = None\n",
        "            #capturando a quantidade de quartos\n",
        "            try:\n",
        "                rooms = apartment.find_element_by_class_name(\"js-property-detail-rooms\").text\n",
        "            except:\n",
        "                rooms = None\n",
        "            #Capturando a quantidade de banheiros\n",
        "            try:\n",
        "                bathrooms = apartment.find_element_by_class_name(\"js-property-detail-bathroom\").text\n",
        "            except:\n",
        "                bathrooms = None\n",
        "            #Capturando a quantidade de vagas na garagem\n",
        "            try:\n",
        "                garage = apartment.find_element_by_class_name(\"js-property-detail-garages\").text\n",
        "            except:\n",
        "                garage = None\n",
        "            #Capturando os amenities(informações adicionais sobre o imóvel)\n",
        "            try:\n",
        "                amenites = apartment.find_element_by_class_name(\"property-card__amenities\").text\n",
        "            except:\n",
        "                amenites = None\n",
        "            #Capturando o preço do apartamento\n",
        "            try:\n",
        "                price = apartment.find_element_by_class_name(\"js-property-card-prices\").text\n",
        "            except:\n",
        "                price = None\n",
        "            #Capturando o preço do condomínio\n",
        "            try:\n",
        "                condo = apartment.find_element_by_class_name(\"js-condo-price\").text\n",
        "            except:\n",
        "                condo = None\n",
        "            #Criando um campo com a data de execução do Crawler    \n",
        "            crawled_at = datetime.now().strftime(\"%Y-%m-%d %H:%M\")\n",
        "            #Criando um dicionário de resultados\n",
        "            results.append({\"address\": address,\n",
        "                            \"city\":bairro,\n",
        "                            \"area\": area,\n",
        "                            \"rooms\": rooms,\n",
        "                            \"bathrooms\": bathrooms,\n",
        "                            \"garage\": garage,\n",
        "                            \"amenites\": str(amenites).replace(\" \", \"_\").replace(\"\\n\", \" \")\n",
        "                            \"price_rent\": str(price).split(\"\\n\")[0], #Pegando valor de aluguel\n",
        "                            \"condo\":condo,\n",
        "                            \"crawled_at\": crawled_at})\n",
        "        #Clicando na próxima página    \n",
        "        try:\n",
        "            next_page.click()\n",
        "        except:\n",
        "            print(\"Next page not clickable\")\n",
        "\n",
        "#Exportando em um arquivo Excel\n",
        "df = pd.DataFrame(results)\n",
        "#Fechando o google Chrome\n",
        "driver.close()"
      ],
      "metadata": {
        "colab": {
          "base_uri": "https://localhost:8080/"
        },
        "id": "RsdQ8Mga3qo0",
        "outputId": "f998507a-2ba6-4235-da75-a22c1e383ba4"
      },
      "execution_count": null,
      "outputs": [
        {
          "output_type": "stream",
          "name": "stderr",
          "text": [
            "/usr/local/lib/python3.7/dist-packages/ipykernel_launcher.py:10: DeprecationWarning: find_element_by_class_name is deprecated. Please use find_element(by=By.CLASS_NAME, value=name) instead\n",
            "  # Remove the CWD from sys.path while we load stuff.\n"
          ]
        },
        {
          "output_type": "stream",
          "name": "stdout",
          "text": [
            "https://www.vivareal.com.br/aluguel/sergipe/aracaju/apartamento_residencial/\n",
            "No cookies!\n"
          ]
        },
        {
          "output_type": "stream",
          "name": "stderr",
          "text": [
            "\raracaju:   0%|          | 0/30 [00:00<?, ?it/s]/usr/local/lib/python3.7/dist-packages/ipykernel_launcher.py:16: DeprecationWarning: find_element_by_class_name is deprecated. Please use find_element(by=By.CLASS_NAME, value=name) instead\n",
            "  app.launch_new_instance()\n",
            "/usr/local/lib/python3.7/dist-packages/ipykernel_launcher.py:19: DeprecationWarning: find_element_by_class_name is deprecated. Please use find_element(by=By.CLASS_NAME, value=name) instead\n",
            "/usr/local/lib/python3.7/dist-packages/ipykernel_launcher.py:20: DeprecationWarning: find_element_by_xpath is deprecated. Please use find_element(by=By.XPATH, value=xpath) instead\n",
            "/usr/local/lib/python3.7/dist-packages/ipykernel_launcher.py:33: DeprecationWarning: find_element_by_class_name is deprecated. Please use find_element(by=By.CLASS_NAME, value=name) instead\n",
            "/usr/local/lib/python3.7/dist-packages/ipykernel_launcher.py:38: DeprecationWarning: find_element_by_class_name is deprecated. Please use find_element(by=By.CLASS_NAME, value=name) instead\n",
            "/usr/local/lib/python3.7/dist-packages/ipykernel_launcher.py:43: DeprecationWarning: find_element_by_class_name is deprecated. Please use find_element(by=By.CLASS_NAME, value=name) instead\n",
            "/usr/local/lib/python3.7/dist-packages/ipykernel_launcher.py:48: DeprecationWarning: find_element_by_class_name is deprecated. Please use find_element(by=By.CLASS_NAME, value=name) instead\n",
            "/usr/local/lib/python3.7/dist-packages/ipykernel_launcher.py:53: DeprecationWarning: find_element_by_class_name is deprecated. Please use find_element(by=By.CLASS_NAME, value=name) instead\n",
            "/usr/local/lib/python3.7/dist-packages/ipykernel_launcher.py:58: DeprecationWarning: find_element_by_class_name is deprecated. Please use find_element(by=By.CLASS_NAME, value=name) instead\n",
            "/usr/local/lib/python3.7/dist-packages/ipykernel_launcher.py:63: DeprecationWarning: find_element_by_class_name is deprecated. Please use find_element(by=By.CLASS_NAME, value=name) instead\n",
            "/usr/local/lib/python3.7/dist-packages/ipykernel_launcher.py:68: DeprecationWarning: find_element_by_class_name is deprecated. Please use find_element(by=By.CLASS_NAME, value=name) instead\n",
            "aracaju:   7%|▋         | 2/30 [00:14<03:06,  6.65s/it]"
          ]
        },
        {
          "output_type": "stream",
          "name": "stdout",
          "text": [
            "Next page not clickable\n"
          ]
        },
        {
          "output_type": "stream",
          "name": "stderr",
          "text": [
            "aracaju:  43%|████▎     | 13/30 [01:26<01:55,  6.81s/it]"
          ]
        },
        {
          "output_type": "stream",
          "name": "stdout",
          "text": [
            "Next page not clickable\n"
          ]
        },
        {
          "output_type": "stream",
          "name": "stderr",
          "text": [
            "\raracaju:  47%|████▋     | 14/30 [01:31<01:38,  6.15s/it]"
          ]
        },
        {
          "output_type": "stream",
          "name": "stdout",
          "text": [
            "Next page not clickable\n"
          ]
        },
        {
          "output_type": "stream",
          "name": "stderr",
          "text": [
            "\raracaju:  50%|█████     | 15/30 [01:34<01:19,  5.28s/it]"
          ]
        },
        {
          "output_type": "stream",
          "name": "stdout",
          "text": [
            "Next page not clickable\n"
          ]
        },
        {
          "output_type": "stream",
          "name": "stderr",
          "text": [
            "\raracaju:  53%|█████▎    | 16/30 [01:37<01:05,  4.71s/it]"
          ]
        },
        {
          "output_type": "stream",
          "name": "stdout",
          "text": [
            "Next page not clickable\n"
          ]
        },
        {
          "output_type": "stream",
          "name": "stderr",
          "text": [
            "\raracaju:  57%|█████▋    | 17/30 [01:41<00:55,  4.29s/it]"
          ]
        },
        {
          "output_type": "stream",
          "name": "stdout",
          "text": [
            "Next page not clickable\n"
          ]
        },
        {
          "output_type": "stream",
          "name": "stderr",
          "text": [
            "\raracaju:  60%|██████    | 18/30 [01:44<00:47,  3.99s/it]"
          ]
        },
        {
          "output_type": "stream",
          "name": "stdout",
          "text": [
            "Next page not clickable\n"
          ]
        },
        {
          "output_type": "stream",
          "name": "stderr",
          "text": [
            "\raracaju:  63%|██████▎   | 19/30 [01:47<00:41,  3.78s/it]"
          ]
        },
        {
          "output_type": "stream",
          "name": "stdout",
          "text": [
            "Next page not clickable\n"
          ]
        },
        {
          "output_type": "stream",
          "name": "stderr",
          "text": [
            "\raracaju:  67%|██████▋   | 20/30 [01:50<00:36,  3.63s/it]"
          ]
        },
        {
          "output_type": "stream",
          "name": "stdout",
          "text": [
            "Next page not clickable\n"
          ]
        },
        {
          "output_type": "stream",
          "name": "stderr",
          "text": [
            "\raracaju:  70%|███████   | 21/30 [01:54<00:31,  3.52s/it]"
          ]
        },
        {
          "output_type": "stream",
          "name": "stdout",
          "text": [
            "Next page not clickable\n"
          ]
        },
        {
          "output_type": "stream",
          "name": "stderr",
          "text": [
            "\raracaju:  73%|███████▎  | 22/30 [01:57<00:27,  3.47s/it]"
          ]
        },
        {
          "output_type": "stream",
          "name": "stdout",
          "text": [
            "Next page not clickable\n"
          ]
        },
        {
          "output_type": "stream",
          "name": "stderr",
          "text": [
            "\raracaju:  77%|███████▋  | 23/30 [02:00<00:23,  3.39s/it]"
          ]
        },
        {
          "output_type": "stream",
          "name": "stdout",
          "text": [
            "Next page not clickable\n"
          ]
        },
        {
          "output_type": "stream",
          "name": "stderr",
          "text": [
            "\raracaju:  80%|████████  | 24/30 [02:04<00:20,  3.48s/it]"
          ]
        },
        {
          "output_type": "stream",
          "name": "stdout",
          "text": [
            "Next page not clickable\n"
          ]
        },
        {
          "output_type": "stream",
          "name": "stderr",
          "text": [
            "\raracaju:  83%|████████▎ | 25/30 [02:08<00:18,  3.71s/it]"
          ]
        },
        {
          "output_type": "stream",
          "name": "stdout",
          "text": [
            "Next page not clickable\n"
          ]
        },
        {
          "output_type": "stream",
          "name": "stderr",
          "text": [
            "\raracaju:  87%|████████▋ | 26/30 [02:12<00:15,  3.82s/it]"
          ]
        },
        {
          "output_type": "stream",
          "name": "stdout",
          "text": [
            "Next page not clickable\n"
          ]
        },
        {
          "output_type": "stream",
          "name": "stderr",
          "text": [
            "\raracaju:  90%|█████████ | 27/30 [02:16<00:11,  3.90s/it]"
          ]
        },
        {
          "output_type": "stream",
          "name": "stdout",
          "text": [
            "Next page not clickable\n"
          ]
        },
        {
          "output_type": "stream",
          "name": "stderr",
          "text": [
            "\raracaju:  93%|█████████▎| 28/30 [02:20<00:07,  3.71s/it]"
          ]
        },
        {
          "output_type": "stream",
          "name": "stdout",
          "text": [
            "Next page not clickable\n"
          ]
        },
        {
          "output_type": "stream",
          "name": "stderr",
          "text": [
            "\raracaju:  97%|█████████▋| 29/30 [02:23<00:03,  3.58s/it]"
          ]
        },
        {
          "output_type": "stream",
          "name": "stdout",
          "text": [
            "Next page not clickable\n"
          ]
        },
        {
          "output_type": "stream",
          "name": "stderr",
          "text": [
            "aracaju: 100%|██████████| 30/30 [02:26<00:00,  4.89s/it]"
          ]
        },
        {
          "output_type": "stream",
          "name": "stdout",
          "text": [
            "Next page not clickable\n"
          ]
        },
        {
          "output_type": "stream",
          "name": "stderr",
          "text": [
            "\n"
          ]
        },
        {
          "output_type": "stream",
          "name": "stdout",
          "text": [
            "https://www.vivareal.com.br/aluguel/alagoas/maceio/apartamento_residencial/\n",
            "No cookies!\n"
          ]
        },
        {
          "output_type": "stream",
          "name": "stderr",
          "text": [
            "maceio:  33%|███▎      | 10/30 [01:11<02:21,  7.06s/it]"
          ]
        },
        {
          "output_type": "stream",
          "name": "stdout",
          "text": [
            "Next page not clickable\n"
          ]
        },
        {
          "output_type": "stream",
          "name": "stderr",
          "text": [
            "\rmaceio:  37%|███▋      | 11/30 [01:15<01:55,  6.08s/it]"
          ]
        },
        {
          "output_type": "stream",
          "name": "stdout",
          "text": [
            "Next page not clickable\n"
          ]
        },
        {
          "output_type": "stream",
          "name": "stderr",
          "text": [
            "\rmaceio:  40%|████      | 12/30 [01:18<01:32,  5.13s/it]"
          ]
        },
        {
          "output_type": "stream",
          "name": "stdout",
          "text": [
            "Next page not clickable\n"
          ]
        },
        {
          "output_type": "stream",
          "name": "stderr",
          "text": [
            "\rmaceio:  43%|████▎     | 13/30 [01:21<01:15,  4.46s/it]"
          ]
        },
        {
          "output_type": "stream",
          "name": "stdout",
          "text": [
            "Next page not clickable\n"
          ]
        },
        {
          "output_type": "stream",
          "name": "stderr",
          "text": [
            "\rmaceio:  47%|████▋     | 14/30 [01:24<01:03,  3.98s/it]"
          ]
        },
        {
          "output_type": "stream",
          "name": "stdout",
          "text": [
            "Next page not clickable\n"
          ]
        },
        {
          "output_type": "stream",
          "name": "stderr",
          "text": [
            "\rmaceio:  50%|█████     | 15/30 [01:27<00:54,  3.65s/it]"
          ]
        },
        {
          "output_type": "stream",
          "name": "stdout",
          "text": [
            "Next page not clickable\n"
          ]
        },
        {
          "output_type": "stream",
          "name": "stderr",
          "text": [
            "\rmaceio:  53%|█████▎    | 16/30 [01:30<00:48,  3.44s/it]"
          ]
        },
        {
          "output_type": "stream",
          "name": "stdout",
          "text": [
            "Next page not clickable\n"
          ]
        },
        {
          "output_type": "stream",
          "name": "stderr",
          "text": [
            "\rmaceio:  57%|█████▋    | 17/30 [01:33<00:42,  3.29s/it]"
          ]
        },
        {
          "output_type": "stream",
          "name": "stdout",
          "text": [
            "Next page not clickable\n"
          ]
        },
        {
          "output_type": "stream",
          "name": "stderr",
          "text": [
            "\rmaceio:  60%|██████    | 18/30 [01:36<00:38,  3.20s/it]"
          ]
        },
        {
          "output_type": "stream",
          "name": "stdout",
          "text": [
            "Next page not clickable\n"
          ]
        },
        {
          "output_type": "stream",
          "name": "stderr",
          "text": [
            "\rmaceio:  63%|██████▎   | 19/30 [01:39<00:34,  3.15s/it]"
          ]
        },
        {
          "output_type": "stream",
          "name": "stdout",
          "text": [
            "Next page not clickable\n"
          ]
        },
        {
          "output_type": "stream",
          "name": "stderr",
          "text": [
            "\rmaceio:  67%|██████▋   | 20/30 [01:42<00:30,  3.09s/it]"
          ]
        },
        {
          "output_type": "stream",
          "name": "stdout",
          "text": [
            "Next page not clickable\n"
          ]
        },
        {
          "output_type": "stream",
          "name": "stderr",
          "text": [
            "\rmaceio:  70%|███████   | 21/30 [01:45<00:27,  3.05s/it]"
          ]
        },
        {
          "output_type": "stream",
          "name": "stdout",
          "text": [
            "Next page not clickable\n"
          ]
        },
        {
          "output_type": "stream",
          "name": "stderr",
          "text": [
            "\rmaceio:  73%|███████▎  | 22/30 [01:47<00:24,  3.02s/it]"
          ]
        },
        {
          "output_type": "stream",
          "name": "stdout",
          "text": [
            "Next page not clickable\n"
          ]
        },
        {
          "output_type": "stream",
          "name": "stderr",
          "text": [
            "\rmaceio:  77%|███████▋  | 23/30 [01:50<00:20,  3.00s/it]"
          ]
        },
        {
          "output_type": "stream",
          "name": "stdout",
          "text": [
            "Next page not clickable\n"
          ]
        },
        {
          "output_type": "stream",
          "name": "stderr",
          "text": [
            "\rmaceio:  80%|████████  | 24/30 [01:53<00:17,  2.97s/it]"
          ]
        },
        {
          "output_type": "stream",
          "name": "stdout",
          "text": [
            "Next page not clickable\n"
          ]
        },
        {
          "output_type": "stream",
          "name": "stderr",
          "text": [
            "\rmaceio:  83%|████████▎ | 25/30 [01:56<00:14,  2.97s/it]"
          ]
        },
        {
          "output_type": "stream",
          "name": "stdout",
          "text": [
            "Next page not clickable\n"
          ]
        },
        {
          "output_type": "stream",
          "name": "stderr",
          "text": [
            "\rmaceio:  87%|████████▋ | 26/30 [01:59<00:11,  2.95s/it]"
          ]
        },
        {
          "output_type": "stream",
          "name": "stdout",
          "text": [
            "Next page not clickable\n"
          ]
        },
        {
          "output_type": "stream",
          "name": "stderr",
          "text": [
            "\rmaceio:  90%|█████████ | 27/30 [02:02<00:08,  2.97s/it]"
          ]
        },
        {
          "output_type": "stream",
          "name": "stdout",
          "text": [
            "Next page not clickable\n"
          ]
        },
        {
          "output_type": "stream",
          "name": "stderr",
          "text": [
            "\rmaceio:  93%|█████████▎| 28/30 [02:05<00:05,  2.95s/it]"
          ]
        },
        {
          "output_type": "stream",
          "name": "stdout",
          "text": [
            "Next page not clickable\n"
          ]
        },
        {
          "output_type": "stream",
          "name": "stderr",
          "text": [
            "\rmaceio:  97%|█████████▋| 29/30 [02:08<00:02,  2.97s/it]"
          ]
        },
        {
          "output_type": "stream",
          "name": "stdout",
          "text": [
            "Next page not clickable\n"
          ]
        },
        {
          "output_type": "stream",
          "name": "stderr",
          "text": [
            "maceio: 100%|██████████| 30/30 [02:11<00:00,  4.39s/it]"
          ]
        },
        {
          "output_type": "stream",
          "name": "stdout",
          "text": [
            "Next page not clickable\n"
          ]
        },
        {
          "output_type": "stream",
          "name": "stderr",
          "text": [
            "\n"
          ]
        },
        {
          "output_type": "stream",
          "name": "stdout",
          "text": [
            "https://www.vivareal.com.br/aluguel/amazonas/manaus/apartamento_residencial/\n",
            "No cookies!\n"
          ]
        },
        {
          "output_type": "stream",
          "name": "stderr",
          "text": [
            "manaus:  20%|██        | 6/30 [00:46<03:06,  7.76s/it]"
          ]
        },
        {
          "output_type": "stream",
          "name": "stdout",
          "text": [
            "Next page not clickable\n"
          ]
        },
        {
          "output_type": "stream",
          "name": "stderr",
          "text": [
            "manaus:  27%|██▋       | 8/30 [01:06<03:09,  8.60s/it]"
          ]
        },
        {
          "output_type": "stream",
          "name": "stdout",
          "text": [
            "Next page not clickable\n"
          ]
        },
        {
          "output_type": "stream",
          "name": "stderr",
          "text": [
            "manaus:  37%|███▋      | 11/30 [01:31<02:33,  8.08s/it]"
          ]
        },
        {
          "output_type": "stream",
          "name": "stdout",
          "text": [
            "Next page not clickable\n"
          ]
        },
        {
          "output_type": "stream",
          "name": "stderr",
          "text": [
            "manaus:  43%|████▎     | 13/30 [01:49<02:19,  8.21s/it]"
          ]
        },
        {
          "output_type": "stream",
          "name": "stdout",
          "text": [
            "Next page not clickable\n"
          ]
        },
        {
          "output_type": "stream",
          "name": "stderr",
          "text": [
            "manaus:  53%|█████▎    | 16/30 [02:12<01:47,  7.65s/it]"
          ]
        },
        {
          "output_type": "stream",
          "name": "stdout",
          "text": [
            "Next page not clickable\n"
          ]
        },
        {
          "output_type": "stream",
          "name": "stderr",
          "text": [
            "manaus:  60%|██████    | 18/30 [02:30<01:35,  7.98s/it]"
          ]
        },
        {
          "output_type": "stream",
          "name": "stdout",
          "text": [
            "Next page not clickable\n"
          ]
        },
        {
          "output_type": "stream",
          "name": "stderr",
          "text": [
            "manaus:  67%|██████▋   | 20/30 [02:48<01:23,  8.34s/it]"
          ]
        },
        {
          "output_type": "stream",
          "name": "stdout",
          "text": [
            "Next page not clickable\n"
          ]
        },
        {
          "output_type": "stream",
          "name": "stderr",
          "text": [
            "manaus:  73%|███████▎  | 22/30 [03:07<01:08,  8.55s/it]"
          ]
        },
        {
          "output_type": "stream",
          "name": "stdout",
          "text": [
            "Next page not clickable\n"
          ]
        },
        {
          "output_type": "stream",
          "name": "stderr",
          "text": [
            "manaus: 100%|██████████| 30/30 [04:17<00:00,  8.57s/it]\n"
          ]
        },
        {
          "output_type": "stream",
          "name": "stdout",
          "text": [
            "https://www.vivareal.com.br/aluguel/bahia/salvador/apartamento_residencial/\n",
            "No cookies!\n"
          ]
        },
        {
          "output_type": "stream",
          "name": "stderr",
          "text": [
            "salvador:   7%|▋         | 2/30 [00:19<04:09,  8.91s/it]"
          ]
        },
        {
          "output_type": "stream",
          "name": "stdout",
          "text": [
            "Next page not clickable\n"
          ]
        },
        {
          "output_type": "stream",
          "name": "stderr",
          "text": [
            "salvador:  13%|█▎        | 4/30 [00:38<03:56,  9.09s/it]"
          ]
        },
        {
          "output_type": "stream",
          "name": "stdout",
          "text": [
            "Next page not clickable\n"
          ]
        },
        {
          "output_type": "stream",
          "name": "stderr",
          "text": [
            "salvador:  20%|██        | 6/30 [00:58<03:39,  9.16s/it]"
          ]
        },
        {
          "output_type": "stream",
          "name": "stdout",
          "text": [
            "Next page not clickable\n"
          ]
        },
        {
          "output_type": "stream",
          "name": "stderr",
          "text": [
            "salvador:  27%|██▋       | 8/30 [01:13<02:59,  8.17s/it]"
          ]
        },
        {
          "output_type": "stream",
          "name": "stdout",
          "text": [
            "Next page not clickable\n"
          ]
        },
        {
          "output_type": "stream",
          "name": "stderr",
          "text": [
            "salvador:  37%|███▋      | 11/30 [01:36<02:22,  7.51s/it]"
          ]
        },
        {
          "output_type": "stream",
          "name": "stdout",
          "text": [
            "Next page not clickable\n"
          ]
        },
        {
          "output_type": "stream",
          "name": "stderr",
          "text": [
            "salvador:  50%|█████     | 15/30 [02:08<01:52,  7.53s/it]"
          ]
        },
        {
          "output_type": "stream",
          "name": "stdout",
          "text": [
            "Next page not clickable\n"
          ]
        },
        {
          "output_type": "stream",
          "name": "stderr",
          "text": [
            "salvador:  57%|█████▋    | 17/30 [02:26<01:44,  8.05s/it]"
          ]
        },
        {
          "output_type": "stream",
          "name": "stdout",
          "text": [
            "Next page not clickable\n"
          ]
        },
        {
          "output_type": "stream",
          "name": "stderr",
          "text": [
            "salvador:  63%|██████▎   | 19/30 [02:46<01:35,  8.65s/it]"
          ]
        },
        {
          "output_type": "stream",
          "name": "stdout",
          "text": [
            "Next page not clickable\n"
          ]
        },
        {
          "output_type": "stream",
          "name": "stderr",
          "text": [
            "salvador:  73%|███████▎  | 22/30 [03:17<01:11,  8.96s/it]"
          ]
        },
        {
          "output_type": "stream",
          "name": "stdout",
          "text": [
            "Next page not clickable\n"
          ]
        },
        {
          "output_type": "stream",
          "name": "stderr",
          "text": [
            "salvador:  80%|████████  | 24/30 [03:35<00:53,  8.84s/it]"
          ]
        },
        {
          "output_type": "stream",
          "name": "stdout",
          "text": [
            "Next page not clickable\n"
          ]
        },
        {
          "output_type": "stream",
          "name": "stderr",
          "text": [
            "salvador:  87%|████████▋ | 26/30 [03:55<00:36,  9.02s/it]"
          ]
        },
        {
          "output_type": "stream",
          "name": "stdout",
          "text": [
            "Next page not clickable\n"
          ]
        },
        {
          "output_type": "stream",
          "name": "stderr",
          "text": [
            "salvador:  93%|█████████▎| 28/30 [04:16<00:18,  9.33s/it]"
          ]
        },
        {
          "output_type": "stream",
          "name": "stdout",
          "text": [
            "Next page not clickable\n"
          ]
        },
        {
          "output_type": "stream",
          "name": "stderr",
          "text": [
            "salvador: 100%|██████████| 30/30 [04:37<00:00,  9.26s/it]"
          ]
        },
        {
          "output_type": "stream",
          "name": "stdout",
          "text": [
            "Next page not clickable\n"
          ]
        },
        {
          "output_type": "stream",
          "name": "stderr",
          "text": [
            "\n"
          ]
        },
        {
          "output_type": "stream",
          "name": "stdout",
          "text": [
            "https://www.vivareal.com.br/aluguel/ceara/fortaleza/apartamento_residencial/\n",
            "No cookies!\n"
          ]
        },
        {
          "output_type": "stream",
          "name": "stderr",
          "text": [
            "fortaleza:   7%|▋         | 2/30 [00:21<04:36,  9.88s/it]"
          ]
        },
        {
          "output_type": "stream",
          "name": "stdout",
          "text": [
            "Next page not clickable\n"
          ]
        },
        {
          "output_type": "stream",
          "name": "stderr",
          "text": [
            "fortaleza:  13%|█▎        | 4/30 [00:38<03:38,  8.41s/it]"
          ]
        },
        {
          "output_type": "stream",
          "name": "stdout",
          "text": [
            "Next page not clickable\n"
          ]
        },
        {
          "output_type": "stream",
          "name": "stderr",
          "text": [
            "fortaleza:  23%|██▎       | 7/30 [01:03<03:02,  7.94s/it]"
          ]
        },
        {
          "output_type": "stream",
          "name": "stdout",
          "text": [
            "Next page not clickable\n"
          ]
        },
        {
          "output_type": "stream",
          "name": "stderr",
          "text": [
            "fortaleza:  30%|███       | 9/30 [01:22<03:00,  8.58s/it]"
          ]
        },
        {
          "output_type": "stream",
          "name": "stdout",
          "text": [
            "Next page not clickable\n"
          ]
        },
        {
          "output_type": "stream",
          "name": "stderr",
          "text": [
            "fortaleza:  37%|███▋      | 11/30 [01:45<03:04,  9.70s/it]"
          ]
        },
        {
          "output_type": "stream",
          "name": "stdout",
          "text": [
            "Next page not clickable\n"
          ]
        },
        {
          "output_type": "stream",
          "name": "stderr",
          "text": [
            "fortaleza:  43%|████▎     | 13/30 [02:09<02:55, 10.31s/it]"
          ]
        },
        {
          "output_type": "stream",
          "name": "stdout",
          "text": [
            "Next page not clickable\n"
          ]
        },
        {
          "output_type": "stream",
          "name": "stderr",
          "text": [
            "fortaleza:  50%|█████     | 15/30 [02:27<02:19,  9.31s/it]"
          ]
        },
        {
          "output_type": "stream",
          "name": "stdout",
          "text": [
            "Next page not clickable\n"
          ]
        },
        {
          "output_type": "stream",
          "name": "stderr",
          "text": [
            "fortaleza:  57%|█████▋    | 17/30 [02:45<01:55,  8.91s/it]"
          ]
        },
        {
          "output_type": "stream",
          "name": "stdout",
          "text": [
            "Next page not clickable\n"
          ]
        },
        {
          "output_type": "stream",
          "name": "stderr",
          "text": [
            "fortaleza:  63%|██████▎   | 19/30 [03:00<01:26,  7.86s/it]"
          ]
        },
        {
          "output_type": "stream",
          "name": "stdout",
          "text": [
            "Next page not clickable\n"
          ]
        },
        {
          "output_type": "stream",
          "name": "stderr",
          "text": [
            "fortaleza:  70%|███████   | 21/30 [03:17<01:11,  7.96s/it]"
          ]
        },
        {
          "output_type": "stream",
          "name": "stdout",
          "text": [
            "Next page not clickable\n"
          ]
        },
        {
          "output_type": "stream",
          "name": "stderr",
          "text": [
            "fortaleza:  83%|████████▎ | 25/30 [03:46<00:35,  7.10s/it]"
          ]
        },
        {
          "output_type": "stream",
          "name": "stdout",
          "text": [
            "Next page not clickable\n"
          ]
        },
        {
          "output_type": "stream",
          "name": "stderr",
          "text": [
            "fortaleza:  90%|█████████ | 27/30 [04:01<00:21,  7.15s/it]"
          ]
        },
        {
          "output_type": "stream",
          "name": "stdout",
          "text": [
            "Next page not clickable\n"
          ]
        },
        {
          "output_type": "stream",
          "name": "stderr",
          "text": [
            "fortaleza:  97%|█████████▋| 29/30 [04:16<00:07,  7.09s/it]"
          ]
        },
        {
          "output_type": "stream",
          "name": "stdout",
          "text": [
            "Next page not clickable\n"
          ]
        },
        {
          "output_type": "stream",
          "name": "stderr",
          "text": [
            "fortaleza: 100%|██████████| 30/30 [04:26<00:00,  8.88s/it]\n"
          ]
        },
        {
          "output_type": "stream",
          "name": "stdout",
          "text": [
            "https://www.vivareal.com.br/aluguel/paraiba/joao-pessoa/apartamento_residencial/\n",
            "No cookies!\n"
          ]
        },
        {
          "output_type": "stream",
          "name": "stderr",
          "text": [
            "joao-pessoa: 100%|██████████| 30/30 [03:59<00:00,  7.97s/it]\n"
          ]
        },
        {
          "output_type": "stream",
          "name": "stdout",
          "text": [
            "https://www.vivareal.com.br/aluguel/pernambuco/recife/apartamento_residencial/\n",
            "No cookies!\n"
          ]
        },
        {
          "output_type": "stream",
          "name": "stderr",
          "text": [
            "recife:  20%|██        | 6/30 [00:58<03:45,  9.41s/it]"
          ]
        },
        {
          "output_type": "stream",
          "name": "stdout",
          "text": [
            "Next page not clickable\n"
          ]
        },
        {
          "output_type": "stream",
          "name": "stderr",
          "text": [
            "recife:  27%|██▋       | 8/30 [01:20<03:39,  9.96s/it]"
          ]
        },
        {
          "output_type": "stream",
          "name": "stdout",
          "text": [
            "Next page not clickable\n"
          ]
        },
        {
          "output_type": "stream",
          "name": "stderr",
          "text": [
            "recife:  43%|████▎     | 13/30 [02:07<02:28,  8.74s/it]"
          ]
        },
        {
          "output_type": "stream",
          "name": "stdout",
          "text": [
            "Next page not clickable\n"
          ]
        },
        {
          "output_type": "stream",
          "name": "stderr",
          "text": [
            "recife:  53%|█████▎    | 16/30 [02:34<02:05,  8.97s/it]"
          ]
        },
        {
          "output_type": "stream",
          "name": "stdout",
          "text": [
            "Next page not clickable\n"
          ]
        },
        {
          "output_type": "stream",
          "name": "stderr",
          "text": [
            "recife:  60%|██████    | 18/30 [02:53<01:45,  8.79s/it]"
          ]
        },
        {
          "output_type": "stream",
          "name": "stdout",
          "text": [
            "Next page not clickable\n"
          ]
        },
        {
          "output_type": "stream",
          "name": "stderr",
          "text": [
            "recife:  67%|██████▋   | 20/30 [03:10<01:25,  8.54s/it]"
          ]
        },
        {
          "output_type": "stream",
          "name": "stdout",
          "text": [
            "Next page not clickable\n"
          ]
        },
        {
          "output_type": "stream",
          "name": "stderr",
          "text": [
            "recife:  80%|████████  | 24/30 [03:44<00:48,  8.07s/it]"
          ]
        },
        {
          "output_type": "stream",
          "name": "stdout",
          "text": [
            "Next page not clickable\n"
          ]
        },
        {
          "output_type": "stream",
          "name": "stderr",
          "text": [
            "recife:  87%|████████▋ | 26/30 [04:04<00:34,  8.75s/it]"
          ]
        },
        {
          "output_type": "stream",
          "name": "stdout",
          "text": [
            "Next page not clickable\n"
          ]
        },
        {
          "output_type": "stream",
          "name": "stderr",
          "text": [
            "recife:  93%|█████████▎| 28/30 [04:22<00:17,  8.51s/it]"
          ]
        },
        {
          "output_type": "stream",
          "name": "stdout",
          "text": [
            "Next page not clickable\n"
          ]
        },
        {
          "output_type": "stream",
          "name": "stderr",
          "text": [
            "recife: 100%|██████████| 30/30 [04:41<00:00,  9.37s/it]\n"
          ]
        },
        {
          "output_type": "stream",
          "name": "stdout",
          "text": [
            "https://www.vivareal.com.br/aluguel/rio-grande-do-norte/natal/apartamento_residencial/\n",
            "No cookies!\n"
          ]
        },
        {
          "output_type": "stream",
          "name": "stderr",
          "text": [
            "natal:  33%|███▎      | 10/30 [01:16<02:45,  8.30s/it]"
          ]
        },
        {
          "output_type": "stream",
          "name": "stdout",
          "text": [
            "Next page not clickable\n"
          ]
        },
        {
          "output_type": "stream",
          "name": "stderr",
          "text": [
            "natal:  43%|████▎     | 13/30 [01:42<02:16,  8.03s/it]"
          ]
        },
        {
          "output_type": "stream",
          "name": "stdout",
          "text": [
            "Next page not clickable\n"
          ]
        },
        {
          "output_type": "stream",
          "name": "stderr",
          "text": [
            "natal:  60%|██████    | 18/30 [02:24<01:35,  7.92s/it]"
          ]
        },
        {
          "output_type": "stream",
          "name": "stdout",
          "text": [
            "Next page not clickable\n"
          ]
        },
        {
          "output_type": "stream",
          "name": "stderr",
          "text": [
            "natal:  67%|██████▋   | 20/30 [02:41<01:20,  8.08s/it]"
          ]
        },
        {
          "output_type": "stream",
          "name": "stdout",
          "text": [
            "Next page not clickable\n"
          ]
        },
        {
          "output_type": "stream",
          "name": "stderr",
          "text": [
            "natal:  83%|████████▎ | 25/30 [03:17<00:35,  7.06s/it]"
          ]
        },
        {
          "output_type": "stream",
          "name": "stdout",
          "text": [
            "Next page not clickable\n"
          ]
        },
        {
          "output_type": "stream",
          "name": "stderr",
          "text": [
            "natal:  90%|█████████ | 27/30 [03:33<00:21,  7.27s/it]"
          ]
        },
        {
          "output_type": "stream",
          "name": "stdout",
          "text": [
            "Next page not clickable\n"
          ]
        },
        {
          "output_type": "stream",
          "name": "stderr",
          "text": [
            "natal:  97%|█████████▋| 29/30 [03:48<00:07,  7.27s/it]"
          ]
        },
        {
          "output_type": "stream",
          "name": "stdout",
          "text": [
            "Next page not clickable\n"
          ]
        },
        {
          "output_type": "stream",
          "name": "stderr",
          "text": [
            "natal: 100%|██████████| 30/30 [03:57<00:00,  7.93s/it]\n"
          ]
        },
        {
          "output_type": "stream",
          "name": "stdout",
          "text": [
            "https://www.vivareal.com.br/aluguel/espirito-santo/vitoria/apartamento_residencial/\n",
            "No cookies!\n"
          ]
        },
        {
          "output_type": "stream",
          "name": "stderr",
          "text": [
            "vitoria:   7%|▋         | 2/30 [00:16<03:40,  7.88s/it]"
          ]
        },
        {
          "output_type": "stream",
          "name": "stdout",
          "text": [
            "Next page not clickable\n"
          ]
        },
        {
          "output_type": "stream",
          "name": "stderr",
          "text": [
            "vitoria:  20%|██        | 6/30 [00:50<03:01,  7.58s/it]"
          ]
        },
        {
          "output_type": "stream",
          "name": "stdout",
          "text": [
            "Next page not clickable\n"
          ]
        },
        {
          "output_type": "stream",
          "name": "stderr",
          "text": [
            "vitoria:  30%|███       | 9/30 [01:13<02:35,  7.38s/it]"
          ]
        },
        {
          "output_type": "stream",
          "name": "stdout",
          "text": [
            "Next page not clickable\n"
          ]
        },
        {
          "output_type": "stream",
          "name": "stderr",
          "text": [
            "\rvitoria:  33%|███▎      | 10/30 [01:23<02:43,  8.15s/it]"
          ]
        },
        {
          "output_type": "stream",
          "name": "stdout",
          "text": [
            "Next page not clickable\n"
          ]
        },
        {
          "output_type": "stream",
          "name": "stderr",
          "text": [
            "\rvitoria:  37%|███▋      | 11/30 [01:31<02:31,  8.00s/it]"
          ]
        },
        {
          "output_type": "stream",
          "name": "stdout",
          "text": [
            "Next page not clickable\n"
          ]
        },
        {
          "output_type": "stream",
          "name": "stderr",
          "text": [
            "\rvitoria:  40%|████      | 12/30 [01:39<02:23,  7.96s/it]"
          ]
        },
        {
          "output_type": "stream",
          "name": "stdout",
          "text": [
            "Next page not clickable\n"
          ]
        },
        {
          "output_type": "stream",
          "name": "stderr",
          "text": [
            "\rvitoria:  43%|████▎     | 13/30 [01:46<02:13,  7.84s/it]"
          ]
        },
        {
          "output_type": "stream",
          "name": "stdout",
          "text": [
            "Next page not clickable\n"
          ]
        },
        {
          "output_type": "stream",
          "name": "stderr",
          "text": [
            "\rvitoria:  47%|████▋     | 14/30 [01:55<02:08,  8.05s/it]"
          ]
        },
        {
          "output_type": "stream",
          "name": "stdout",
          "text": [
            "Next page not clickable\n"
          ]
        },
        {
          "output_type": "stream",
          "name": "stderr",
          "text": [
            "\rvitoria:  50%|█████     | 15/30 [02:02<01:56,  7.77s/it]"
          ]
        },
        {
          "output_type": "stream",
          "name": "stdout",
          "text": [
            "Next page not clickable\n"
          ]
        },
        {
          "output_type": "stream",
          "name": "stderr",
          "text": [
            "\rvitoria:  53%|█████▎    | 16/30 [02:09<01:46,  7.60s/it]"
          ]
        },
        {
          "output_type": "stream",
          "name": "stdout",
          "text": [
            "Next page not clickable\n"
          ]
        },
        {
          "output_type": "stream",
          "name": "stderr",
          "text": [
            "\rvitoria:  57%|█████▋    | 17/30 [02:17<01:37,  7.53s/it]"
          ]
        },
        {
          "output_type": "stream",
          "name": "stdout",
          "text": [
            "Next page not clickable\n"
          ]
        },
        {
          "output_type": "stream",
          "name": "stderr",
          "text": [
            "\rvitoria:  60%|██████    | 18/30 [02:23<01:25,  7.16s/it]"
          ]
        },
        {
          "output_type": "stream",
          "name": "stdout",
          "text": [
            "Next page not clickable\n"
          ]
        },
        {
          "output_type": "stream",
          "name": "stderr",
          "text": [
            "\rvitoria:  63%|██████▎   | 19/30 [02:29<01:15,  6.88s/it]"
          ]
        },
        {
          "output_type": "stream",
          "name": "stdout",
          "text": [
            "Next page not clickable\n"
          ]
        },
        {
          "output_type": "stream",
          "name": "stderr",
          "text": [
            "\rvitoria:  67%|██████▋   | 20/30 [02:36<01:07,  6.74s/it]"
          ]
        },
        {
          "output_type": "stream",
          "name": "stdout",
          "text": [
            "Next page not clickable\n"
          ]
        },
        {
          "output_type": "stream",
          "name": "stderr",
          "text": [
            "\rvitoria:  70%|███████   | 21/30 [02:42<01:00,  6.68s/it]"
          ]
        },
        {
          "output_type": "stream",
          "name": "stdout",
          "text": [
            "Next page not clickable\n"
          ]
        },
        {
          "output_type": "stream",
          "name": "stderr",
          "text": [
            "\rvitoria:  73%|███████▎  | 22/30 [02:48<00:52,  6.57s/it]"
          ]
        },
        {
          "output_type": "stream",
          "name": "stdout",
          "text": [
            "Next page not clickable\n"
          ]
        },
        {
          "output_type": "stream",
          "name": "stderr",
          "text": [
            "\rvitoria:  77%|███████▋  | 23/30 [02:55<00:46,  6.61s/it]"
          ]
        },
        {
          "output_type": "stream",
          "name": "stdout",
          "text": [
            "Next page not clickable\n"
          ]
        },
        {
          "output_type": "stream",
          "name": "stderr",
          "text": [
            "\rvitoria:  80%|████████  | 24/30 [03:02<00:39,  6.64s/it]"
          ]
        },
        {
          "output_type": "stream",
          "name": "stdout",
          "text": [
            "Next page not clickable\n"
          ]
        },
        {
          "output_type": "stream",
          "name": "stderr",
          "text": [
            "\rvitoria:  83%|████████▎ | 25/30 [03:08<00:32,  6.55s/it]"
          ]
        },
        {
          "output_type": "stream",
          "name": "stdout",
          "text": [
            "Next page not clickable\n"
          ]
        },
        {
          "output_type": "stream",
          "name": "stderr",
          "text": [
            "\rvitoria:  87%|████████▋ | 26/30 [03:14<00:25,  6.46s/it]"
          ]
        },
        {
          "output_type": "stream",
          "name": "stdout",
          "text": [
            "Next page not clickable\n"
          ]
        },
        {
          "output_type": "stream",
          "name": "stderr",
          "text": [
            "\rvitoria:  90%|█████████ | 27/30 [03:20<00:18,  6.12s/it]"
          ]
        },
        {
          "output_type": "stream",
          "name": "stdout",
          "text": [
            "Next page not clickable\n"
          ]
        },
        {
          "output_type": "stream",
          "name": "stderr",
          "text": [
            "\rvitoria:  93%|█████████▎| 28/30 [03:25<00:11,  5.96s/it]"
          ]
        },
        {
          "output_type": "stream",
          "name": "stdout",
          "text": [
            "Next page not clickable\n"
          ]
        },
        {
          "output_type": "stream",
          "name": "stderr",
          "text": [
            "\rvitoria:  97%|█████████▋| 29/30 [03:31<00:05,  5.98s/it]"
          ]
        },
        {
          "output_type": "stream",
          "name": "stdout",
          "text": [
            "Next page not clickable\n"
          ]
        },
        {
          "output_type": "stream",
          "name": "stderr",
          "text": [
            "vitoria: 100%|██████████| 30/30 [03:37<00:00,  7.25s/it]"
          ]
        },
        {
          "output_type": "stream",
          "name": "stdout",
          "text": [
            "Next page not clickable\n"
          ]
        },
        {
          "output_type": "stream",
          "name": "stderr",
          "text": [
            "\n"
          ]
        },
        {
          "output_type": "stream",
          "name": "stdout",
          "text": [
            "https://www.vivareal.com.br/aluguel/minas-gerais/belo-horizonte/apartamento_residencial/\n",
            "No cookies!\n"
          ]
        },
        {
          "output_type": "stream",
          "name": "stderr",
          "text": [
            "belo-horizonte:   7%|▋         | 2/30 [00:15<03:21,  7.21s/it]"
          ]
        },
        {
          "output_type": "stream",
          "name": "stdout",
          "text": [
            "Next page not clickable\n"
          ]
        },
        {
          "output_type": "stream",
          "name": "stderr",
          "text": [
            "belo-horizonte:  13%|█▎        | 4/30 [00:30<03:04,  7.10s/it]"
          ]
        },
        {
          "output_type": "stream",
          "name": "stdout",
          "text": [
            "Next page not clickable\n"
          ]
        },
        {
          "output_type": "stream",
          "name": "stderr",
          "text": [
            "belo-horizonte:  30%|███       | 9/30 [01:05<02:24,  6.86s/it]"
          ]
        },
        {
          "output_type": "stream",
          "name": "stdout",
          "text": [
            "Next page not clickable\n"
          ]
        },
        {
          "output_type": "stream",
          "name": "stderr",
          "text": [
            "belo-horizonte:  37%|███▋      | 11/30 [01:23<02:23,  7.55s/it]"
          ]
        },
        {
          "output_type": "stream",
          "name": "stdout",
          "text": [
            "Next page not clickable\n"
          ]
        },
        {
          "output_type": "stream",
          "name": "stderr",
          "text": [
            "belo-horizonte:  47%|████▋     | 14/30 [01:48<02:05,  7.84s/it]"
          ]
        },
        {
          "output_type": "stream",
          "name": "stdout",
          "text": [
            "Next page not clickable\n"
          ]
        },
        {
          "output_type": "stream",
          "name": "stderr",
          "text": [
            "belo-horizonte:  53%|█████▎    | 16/30 [02:07<01:57,  8.40s/it]"
          ]
        },
        {
          "output_type": "stream",
          "name": "stdout",
          "text": [
            "Next page not clickable\n"
          ]
        },
        {
          "output_type": "stream",
          "name": "stderr",
          "text": [
            "belo-horizonte:  60%|██████    | 18/30 [02:32<02:00, 10.06s/it]"
          ]
        },
        {
          "output_type": "stream",
          "name": "stdout",
          "text": [
            "Next page not clickable\n"
          ]
        },
        {
          "output_type": "stream",
          "name": "stderr",
          "text": [
            "belo-horizonte:  70%|███████   | 21/30 [03:01<01:21,  9.03s/it]"
          ]
        },
        {
          "output_type": "stream",
          "name": "stdout",
          "text": [
            "Next page not clickable\n"
          ]
        },
        {
          "output_type": "stream",
          "name": "stderr",
          "text": [
            "belo-horizonte:  77%|███████▋  | 23/30 [03:18<01:00,  8.59s/it]"
          ]
        },
        {
          "output_type": "stream",
          "name": "stdout",
          "text": [
            "Next page not clickable\n"
          ]
        },
        {
          "output_type": "stream",
          "name": "stderr",
          "text": [
            "belo-horizonte:  83%|████████▎ | 25/30 [03:38<00:43,  8.79s/it]"
          ]
        },
        {
          "output_type": "stream",
          "name": "stdout",
          "text": [
            "Next page not clickable\n"
          ]
        },
        {
          "output_type": "stream",
          "name": "stderr",
          "text": [
            "belo-horizonte:  90%|█████████ | 27/30 [03:58<00:27,  9.16s/it]"
          ]
        },
        {
          "output_type": "stream",
          "name": "stdout",
          "text": [
            "Next page not clickable\n"
          ]
        },
        {
          "output_type": "stream",
          "name": "stderr",
          "text": [
            "belo-horizonte:  97%|█████████▋| 29/30 [04:21<00:09,  9.78s/it]"
          ]
        },
        {
          "output_type": "stream",
          "name": "stdout",
          "text": [
            "Next page not clickable\n"
          ]
        },
        {
          "output_type": "stream",
          "name": "stderr",
          "text": [
            "belo-horizonte: 100%|██████████| 30/30 [04:37<00:00,  9.25s/it]\n"
          ]
        },
        {
          "output_type": "stream",
          "name": "stdout",
          "text": [
            "https://www.vivareal.com.br/aluguel/parana/curitiba/apartamento_residencial/\n",
            "No cookies!\n"
          ]
        },
        {
          "output_type": "stream",
          "name": "stderr",
          "text": [
            "curitiba:   7%|▋         | 2/30 [00:19<04:16,  9.16s/it]"
          ]
        },
        {
          "output_type": "stream",
          "name": "stdout",
          "text": [
            "Next page not clickable\n"
          ]
        },
        {
          "output_type": "stream",
          "name": "stderr",
          "text": [
            "curitiba:  13%|█▎        | 4/30 [00:38<03:54,  9.01s/it]"
          ]
        },
        {
          "output_type": "stream",
          "name": "stdout",
          "text": [
            "Next page not clickable\n"
          ]
        },
        {
          "output_type": "stream",
          "name": "stderr",
          "text": [
            "curitiba:  20%|██        | 6/30 [00:58<03:37,  9.08s/it]"
          ]
        },
        {
          "output_type": "stream",
          "name": "stdout",
          "text": [
            "Next page not clickable\n"
          ]
        },
        {
          "output_type": "stream",
          "name": "stderr",
          "text": [
            "curitiba:  27%|██▋       | 8/30 [01:23<03:52, 10.56s/it]"
          ]
        },
        {
          "output_type": "stream",
          "name": "stdout",
          "text": [
            "Next page not clickable\n"
          ]
        },
        {
          "output_type": "stream",
          "name": "stderr",
          "text": [
            "curitiba:  33%|███▎      | 10/30 [01:46<03:35, 10.80s/it]"
          ]
        },
        {
          "output_type": "stream",
          "name": "stdout",
          "text": [
            "Next page not clickable\n"
          ]
        },
        {
          "output_type": "stream",
          "name": "stderr",
          "text": [
            "curitiba:  40%|████      | 12/30 [02:04<02:51,  9.51s/it]"
          ]
        },
        {
          "output_type": "stream",
          "name": "stdout",
          "text": [
            "Next page not clickable\n"
          ]
        },
        {
          "output_type": "stream",
          "name": "stderr",
          "text": [
            "curitiba:  47%|████▋     | 14/30 [02:22<02:21,  8.82s/it]"
          ]
        },
        {
          "output_type": "stream",
          "name": "stdout",
          "text": [
            "Next page not clickable\n"
          ]
        },
        {
          "output_type": "stream",
          "name": "stderr",
          "text": [
            "curitiba:  53%|█████▎    | 16/30 [02:41<02:01,  8.70s/it]"
          ]
        },
        {
          "output_type": "stream",
          "name": "stdout",
          "text": [
            "Next page not clickable\n"
          ]
        },
        {
          "output_type": "stream",
          "name": "stderr",
          "text": [
            "curitiba:  63%|██████▎   | 19/30 [03:08<01:33,  8.51s/it]"
          ]
        },
        {
          "output_type": "stream",
          "name": "stdout",
          "text": [
            "Next page not clickable\n"
          ]
        },
        {
          "output_type": "stream",
          "name": "stderr",
          "text": [
            "curitiba:  70%|███████   | 21/30 [03:29<01:21,  9.01s/it]"
          ]
        },
        {
          "output_type": "stream",
          "name": "stdout",
          "text": [
            "Next page not clickable\n"
          ]
        },
        {
          "output_type": "stream",
          "name": "stderr",
          "text": [
            "curitiba:  77%|███████▋  | 23/30 [03:51<01:06,  9.43s/it]"
          ]
        },
        {
          "output_type": "stream",
          "name": "stdout",
          "text": [
            "Next page not clickable\n"
          ]
        },
        {
          "output_type": "stream",
          "name": "stderr",
          "text": [
            "curitiba:  83%|████████▎ | 25/30 [04:10<00:46,  9.34s/it]"
          ]
        },
        {
          "output_type": "stream",
          "name": "stdout",
          "text": [
            "Next page not clickable\n"
          ]
        },
        {
          "output_type": "stream",
          "name": "stderr",
          "text": [
            "curitiba:  93%|█████████▎| 28/30 [04:42<00:18,  9.37s/it]"
          ]
        },
        {
          "output_type": "stream",
          "name": "stdout",
          "text": [
            "Next page not clickable\n"
          ]
        },
        {
          "output_type": "stream",
          "name": "stderr",
          "text": [
            "curitiba: 100%|██████████| 30/30 [05:03<00:00, 10.13s/it]"
          ]
        },
        {
          "output_type": "stream",
          "name": "stdout",
          "text": [
            "Next page not clickable\n"
          ]
        },
        {
          "output_type": "stream",
          "name": "stderr",
          "text": [
            "\n"
          ]
        },
        {
          "output_type": "stream",
          "name": "stdout",
          "text": [
            "https://www.vivareal.com.br/aluguel/rj/rio-de-janeiro/apartamento_residencial/\n",
            "No cookies!\n"
          ]
        },
        {
          "output_type": "stream",
          "name": "stderr",
          "text": [
            "rio-de-janeiro:   7%|▋         | 2/30 [00:21<04:39,  9.97s/it]"
          ]
        },
        {
          "output_type": "stream",
          "name": "stdout",
          "text": [
            "Next page not clickable\n"
          ]
        },
        {
          "output_type": "stream",
          "name": "stderr",
          "text": [
            "rio-de-janeiro:  13%|█▎        | 4/30 [00:38<03:36,  8.34s/it]"
          ]
        },
        {
          "output_type": "stream",
          "name": "stdout",
          "text": [
            "Next page not clickable\n"
          ]
        },
        {
          "output_type": "stream",
          "name": "stderr",
          "text": [
            "rio-de-janeiro:  20%|██        | 6/30 [00:55<03:14,  8.10s/it]"
          ]
        },
        {
          "output_type": "stream",
          "name": "stdout",
          "text": [
            "Next page not clickable\n"
          ]
        },
        {
          "output_type": "stream",
          "name": "stderr",
          "text": [
            "rio-de-janeiro:  27%|██▋       | 8/30 [01:13<03:02,  8.29s/it]"
          ]
        },
        {
          "output_type": "stream",
          "name": "stdout",
          "text": [
            "Next page not clickable\n"
          ]
        },
        {
          "output_type": "stream",
          "name": "stderr",
          "text": [
            "rio-de-janeiro:  33%|███▎      | 10/30 [01:32<02:51,  8.55s/it]"
          ]
        },
        {
          "output_type": "stream",
          "name": "stdout",
          "text": [
            "Next page not clickable\n"
          ]
        },
        {
          "output_type": "stream",
          "name": "stderr",
          "text": [
            "rio-de-janeiro:  40%|████      | 12/30 [01:52<02:40,  8.94s/it]"
          ]
        },
        {
          "output_type": "stream",
          "name": "stdout",
          "text": [
            "Next page not clickable\n"
          ]
        },
        {
          "output_type": "stream",
          "name": "stderr",
          "text": [
            "rio-de-janeiro:  47%|████▋     | 14/30 [02:12<02:28,  9.26s/it]"
          ]
        },
        {
          "output_type": "stream",
          "name": "stdout",
          "text": [
            "Next page not clickable\n"
          ]
        },
        {
          "output_type": "stream",
          "name": "stderr",
          "text": [
            "rio-de-janeiro:  53%|█████▎    | 16/30 [02:37<02:24, 10.30s/it]"
          ]
        },
        {
          "output_type": "stream",
          "name": "stdout",
          "text": [
            "Next page not clickable\n"
          ]
        },
        {
          "output_type": "stream",
          "name": "stderr",
          "text": [
            "rio-de-janeiro:  63%|██████▎   | 19/30 [03:03<01:34,  8.62s/it]"
          ]
        },
        {
          "output_type": "stream",
          "name": "stdout",
          "text": [
            "Next page not clickable\n"
          ]
        },
        {
          "output_type": "stream",
          "name": "stderr",
          "text": [
            "rio-de-janeiro:  70%|███████   | 21/30 [03:20<01:13,  8.20s/it]"
          ]
        },
        {
          "output_type": "stream",
          "name": "stdout",
          "text": [
            "Next page not clickable\n"
          ]
        },
        {
          "output_type": "stream",
          "name": "stderr",
          "text": [
            "rio-de-janeiro:  77%|███████▋  | 23/30 [03:36<00:55,  7.91s/it]"
          ]
        },
        {
          "output_type": "stream",
          "name": "stdout",
          "text": [
            "Next page not clickable\n"
          ]
        },
        {
          "output_type": "stream",
          "name": "stderr",
          "text": [
            "rio-de-janeiro:  87%|████████▋ | 26/30 [03:58<00:28,  7.23s/it]"
          ]
        },
        {
          "output_type": "stream",
          "name": "stdout",
          "text": [
            "Next page not clickable\n"
          ]
        },
        {
          "output_type": "stream",
          "name": "stderr",
          "text": [
            "rio-de-janeiro:  93%|█████████▎| 28/30 [04:14<00:14,  7.33s/it]"
          ]
        },
        {
          "output_type": "stream",
          "name": "stdout",
          "text": [
            "Next page not clickable\n"
          ]
        },
        {
          "output_type": "stream",
          "name": "stderr",
          "text": [
            "rio-de-janeiro: 100%|██████████| 30/30 [04:30<00:00,  9.01s/it]"
          ]
        },
        {
          "output_type": "stream",
          "name": "stdout",
          "text": [
            "Next page not clickable\n"
          ]
        },
        {
          "output_type": "stream",
          "name": "stderr",
          "text": [
            "\n"
          ]
        },
        {
          "output_type": "stream",
          "name": "stdout",
          "text": [
            "https://www.vivareal.com.br/aluguel/rio-grande-do-sul/porto-alegre/apartamento_residencial/\n",
            "No cookies!\n"
          ]
        },
        {
          "output_type": "stream",
          "name": "stderr",
          "text": [
            "porto-alegre:   7%|▋         | 2/30 [00:17<03:41,  7.90s/it]"
          ]
        },
        {
          "output_type": "stream",
          "name": "stdout",
          "text": [
            "Next page not clickable\n"
          ]
        },
        {
          "output_type": "stream",
          "name": "stderr",
          "text": [
            "porto-alegre:  13%|█▎        | 4/30 [00:32<03:13,  7.46s/it]"
          ]
        },
        {
          "output_type": "stream",
          "name": "stdout",
          "text": [
            "Next page not clickable\n"
          ]
        },
        {
          "output_type": "stream",
          "name": "stderr",
          "text": [
            "porto-alegre:  20%|██        | 6/30 [00:50<03:13,  8.08s/it]"
          ]
        },
        {
          "output_type": "stream",
          "name": "stdout",
          "text": [
            "Next page not clickable\n"
          ]
        },
        {
          "output_type": "stream",
          "name": "stderr",
          "text": [
            "porto-alegre:  27%|██▋       | 8/30 [01:10<03:13,  8.79s/it]"
          ]
        },
        {
          "output_type": "stream",
          "name": "stdout",
          "text": [
            "Next page not clickable\n"
          ]
        },
        {
          "output_type": "stream",
          "name": "stderr",
          "text": [
            "porto-alegre:  33%|███▎      | 10/30 [01:29<02:53,  8.67s/it]"
          ]
        },
        {
          "output_type": "stream",
          "name": "stdout",
          "text": [
            "Next page not clickable\n"
          ]
        },
        {
          "output_type": "stream",
          "name": "stderr",
          "text": [
            "porto-alegre:  40%|████      | 12/30 [01:48<02:38,  8.79s/it]"
          ]
        },
        {
          "output_type": "stream",
          "name": "stdout",
          "text": [
            "Next page not clickable\n"
          ]
        },
        {
          "output_type": "stream",
          "name": "stderr",
          "text": [
            "porto-alegre:  47%|████▋     | 14/30 [02:09<02:25,  9.12s/it]"
          ]
        },
        {
          "output_type": "stream",
          "name": "stdout",
          "text": [
            "Next page not clickable\n"
          ]
        },
        {
          "output_type": "stream",
          "name": "stderr",
          "text": [
            "porto-alegre:  53%|█████▎    | 16/30 [02:27<02:01,  8.71s/it]"
          ]
        },
        {
          "output_type": "stream",
          "name": "stdout",
          "text": [
            "Next page not clickable\n"
          ]
        },
        {
          "output_type": "stream",
          "name": "stderr",
          "text": [
            "porto-alegre:  60%|██████    | 18/30 [02:46<01:46,  8.91s/it]"
          ]
        },
        {
          "output_type": "stream",
          "name": "stdout",
          "text": [
            "Next page not clickable\n"
          ]
        },
        {
          "output_type": "stream",
          "name": "stderr",
          "text": [
            "porto-alegre:  70%|███████   | 21/30 [03:14<01:17,  8.59s/it]"
          ]
        },
        {
          "output_type": "stream",
          "name": "stdout",
          "text": [
            "Next page not clickable\n"
          ]
        },
        {
          "output_type": "stream",
          "name": "stderr",
          "text": [
            "porto-alegre:  77%|███████▋  | 23/30 [03:37<01:06,  9.54s/it]"
          ]
        },
        {
          "output_type": "stream",
          "name": "stdout",
          "text": [
            "Next page not clickable\n"
          ]
        },
        {
          "output_type": "stream",
          "name": "stderr",
          "text": [
            "porto-alegre:  83%|████████▎ | 25/30 [04:03<00:52, 10.57s/it]"
          ]
        },
        {
          "output_type": "stream",
          "name": "stdout",
          "text": [
            "Next page not clickable\n"
          ]
        },
        {
          "output_type": "stream",
          "name": "stderr",
          "text": [
            "porto-alegre:  90%|█████████ | 27/30 [04:21<00:28,  9.47s/it]"
          ]
        },
        {
          "output_type": "stream",
          "name": "stdout",
          "text": [
            "Next page not clickable\n"
          ]
        },
        {
          "output_type": "stream",
          "name": "stderr",
          "text": [
            "porto-alegre:  97%|█████████▋| 29/30 [04:40<00:09,  9.06s/it]"
          ]
        },
        {
          "output_type": "stream",
          "name": "stdout",
          "text": [
            "Next page not clickable\n"
          ]
        },
        {
          "output_type": "stream",
          "name": "stderr",
          "text": [
            "porto-alegre: 100%|██████████| 30/30 [04:54<00:00,  9.80s/it]\n"
          ]
        },
        {
          "output_type": "stream",
          "name": "stdout",
          "text": [
            "https://www.vivareal.com.br/aluguel/sp/sao-paulo/apartamento_residencial/\n",
            "No cookies!\n"
          ]
        },
        {
          "output_type": "stream",
          "name": "stderr",
          "text": [
            "sao-paulo:   7%|▋         | 2/30 [00:22<04:43, 10.13s/it]"
          ]
        },
        {
          "output_type": "stream",
          "name": "stdout",
          "text": [
            "Next page not clickable\n"
          ]
        },
        {
          "output_type": "stream",
          "name": "stderr",
          "text": [
            "sao-paulo:  13%|█▎        | 4/30 [00:43<04:15,  9.82s/it]"
          ]
        },
        {
          "output_type": "stream",
          "name": "stdout",
          "text": [
            "Next page not clickable\n"
          ]
        },
        {
          "output_type": "stream",
          "name": "stderr",
          "text": [
            "sao-paulo:  20%|██        | 6/30 [01:04<03:56,  9.86s/it]"
          ]
        },
        {
          "output_type": "stream",
          "name": "stdout",
          "text": [
            "Next page not clickable\n"
          ]
        },
        {
          "output_type": "stream",
          "name": "stderr",
          "text": [
            "sao-paulo:  27%|██▋       | 8/30 [01:27<03:44, 10.22s/it]"
          ]
        },
        {
          "output_type": "stream",
          "name": "stdout",
          "text": [
            "Next page not clickable\n"
          ]
        },
        {
          "output_type": "stream",
          "name": "stderr",
          "text": [
            "sao-paulo:  33%|███▎      | 10/30 [01:51<03:33, 10.69s/it]"
          ]
        },
        {
          "output_type": "stream",
          "name": "stdout",
          "text": [
            "Next page not clickable\n"
          ]
        },
        {
          "output_type": "stream",
          "name": "stderr",
          "text": [
            "sao-paulo:  40%|████      | 12/30 [02:16<03:16, 10.93s/it]"
          ]
        },
        {
          "output_type": "stream",
          "name": "stdout",
          "text": [
            "Next page not clickable\n"
          ]
        },
        {
          "output_type": "stream",
          "name": "stderr",
          "text": [
            "sao-paulo:  47%|████▋     | 14/30 [02:34<02:36,  9.75s/it]"
          ]
        },
        {
          "output_type": "stream",
          "name": "stdout",
          "text": [
            "Next page not clickable\n"
          ]
        },
        {
          "output_type": "stream",
          "name": "stderr",
          "text": [
            "sao-paulo:  53%|█████▎    | 16/30 [02:51<02:03,  8.79s/it]"
          ]
        },
        {
          "output_type": "stream",
          "name": "stdout",
          "text": [
            "Next page not clickable\n"
          ]
        },
        {
          "output_type": "stream",
          "name": "stderr",
          "text": [
            "sao-paulo:  60%|██████    | 18/30 [03:07<01:38,  8.24s/it]"
          ]
        },
        {
          "output_type": "stream",
          "name": "stdout",
          "text": [
            "Next page not clickable\n"
          ]
        },
        {
          "output_type": "stream",
          "name": "stderr",
          "text": [
            "sao-paulo:  67%|██████▋   | 20/30 [03:24<01:19,  8.00s/it]"
          ]
        },
        {
          "output_type": "stream",
          "name": "stdout",
          "text": [
            "Next page not clickable\n"
          ]
        },
        {
          "output_type": "stream",
          "name": "stderr",
          "text": [
            "sao-paulo:  73%|███████▎  | 22/30 [03:39<01:01,  7.64s/it]"
          ]
        },
        {
          "output_type": "stream",
          "name": "stdout",
          "text": [
            "Next page not clickable\n"
          ]
        },
        {
          "output_type": "stream",
          "name": "stderr",
          "text": [
            "sao-paulo:  80%|████████  | 24/30 [03:56<00:45,  7.64s/it]"
          ]
        },
        {
          "output_type": "stream",
          "name": "stdout",
          "text": [
            "Next page not clickable\n"
          ]
        },
        {
          "output_type": "stream",
          "name": "stderr",
          "text": [
            "sao-paulo:  87%|████████▋ | 26/30 [04:12<00:30,  7.70s/it]"
          ]
        },
        {
          "output_type": "stream",
          "name": "stdout",
          "text": [
            "Next page not clickable\n"
          ]
        },
        {
          "output_type": "stream",
          "name": "stderr",
          "text": [
            "sao-paulo:  93%|█████████▎| 28/30 [04:28<00:15,  7.55s/it]"
          ]
        },
        {
          "output_type": "stream",
          "name": "stdout",
          "text": [
            "Next page not clickable\n"
          ]
        },
        {
          "output_type": "stream",
          "name": "stderr",
          "text": [
            "sao-paulo: 100%|██████████| 30/30 [04:46<00:00,  9.55s/it]\n"
          ]
        },
        {
          "output_type": "stream",
          "name": "stdout",
          "text": [
            "https://www.vivareal.com.br/aluguel/santa-catarina/florianopolis/apartamento_residencial/\n",
            "No cookies!\n"
          ]
        },
        {
          "output_type": "stream",
          "name": "stderr",
          "text": [
            "florianopolis: 100%|██████████| 30/30 [04:01<00:00,  8.05s/it]\n"
          ]
        },
        {
          "output_type": "stream",
          "name": "stdout",
          "text": [
            "https://www.vivareal.com.br/aluguel/distrito-federal/brasilia/apartamento_residencial/\n",
            "No cookies!\n"
          ]
        },
        {
          "output_type": "stream",
          "name": "stderr",
          "text": [
            "brasilia:  10%|█         | 3/30 [00:25<03:35,  7.98s/it]"
          ]
        },
        {
          "output_type": "stream",
          "name": "stdout",
          "text": [
            "Next page not clickable\n"
          ]
        },
        {
          "output_type": "stream",
          "name": "stderr",
          "text": [
            "brasilia:  17%|█▋        | 5/30 [00:41<03:14,  7.79s/it]"
          ]
        },
        {
          "output_type": "stream",
          "name": "stdout",
          "text": [
            "Next page not clickable\n"
          ]
        },
        {
          "output_type": "stream",
          "name": "stderr",
          "text": [
            "brasilia:  23%|██▎       | 7/30 [00:56<02:49,  7.36s/it]"
          ]
        },
        {
          "output_type": "stream",
          "name": "stdout",
          "text": [
            "Next page not clickable\n"
          ]
        },
        {
          "output_type": "stream",
          "name": "stderr",
          "text": [
            "brasilia:  30%|███       | 9/30 [01:11<02:31,  7.19s/it]"
          ]
        },
        {
          "output_type": "stream",
          "name": "stdout",
          "text": [
            "Next page not clickable\n"
          ]
        },
        {
          "output_type": "stream",
          "name": "stderr",
          "text": [
            "brasilia:  37%|███▋      | 11/30 [01:27<02:19,  7.34s/it]"
          ]
        },
        {
          "output_type": "stream",
          "name": "stdout",
          "text": [
            "Next page not clickable\n"
          ]
        },
        {
          "output_type": "stream",
          "name": "stderr",
          "text": [
            "brasilia:  43%|████▎     | 13/30 [01:48<02:28,  8.72s/it]"
          ]
        },
        {
          "output_type": "stream",
          "name": "stdout",
          "text": [
            "Next page not clickable\n"
          ]
        },
        {
          "output_type": "stream",
          "name": "stderr",
          "text": [
            "brasilia:  67%|██████▋   | 20/30 [02:44<01:16,  7.66s/it]"
          ]
        },
        {
          "output_type": "stream",
          "name": "stdout",
          "text": [
            "Next page not clickable\n"
          ]
        },
        {
          "output_type": "stream",
          "name": "stderr",
          "text": [
            "brasilia:  87%|████████▋ | 26/30 [03:30<00:28,  7.10s/it]"
          ]
        },
        {
          "output_type": "stream",
          "name": "stdout",
          "text": [
            "Next page not clickable\n"
          ]
        },
        {
          "output_type": "stream",
          "name": "stderr",
          "text": [
            "brasilia:  93%|█████████▎| 28/30 [03:45<00:14,  7.07s/it]"
          ]
        },
        {
          "output_type": "stream",
          "name": "stdout",
          "text": [
            "Next page not clickable\n"
          ]
        },
        {
          "output_type": "stream",
          "name": "stderr",
          "text": [
            "brasilia: 100%|██████████| 30/30 [04:01<00:00,  8.05s/it]"
          ]
        },
        {
          "output_type": "stream",
          "name": "stdout",
          "text": [
            "Next page not clickable\n"
          ]
        },
        {
          "output_type": "stream",
          "name": "stderr",
          "text": [
            "\n"
          ]
        },
        {
          "output_type": "stream",
          "name": "stdout",
          "text": [
            "https://www.vivareal.com.br/aluguel/goias/goiania/apartamento_residencial/\n",
            "No cookies!\n"
          ]
        },
        {
          "output_type": "stream",
          "name": "stderr",
          "text": [
            "goiania: 100%|██████████| 30/30 [03:54<00:00,  7.82s/it]\n"
          ]
        }
      ]
    },
    {
      "cell_type": "code",
      "source": [
        "df"
      ],
      "metadata": {
        "colab": {
          "base_uri": "https://localhost:8080/",
          "height": 424
        },
        "id": "Wb3lVm3wwSZ_",
        "outputId": "0ec96e27-6359-4e9b-a86b-aeea086517d5"
      },
      "execution_count": null,
      "outputs": [
        {
          "output_type": "execute_result",
          "data": {
            "text/plain": [
              "                                                 address     city  area  \\\n",
              "0      Rua Professor José Freitas de Andrade, 428 - C...  aracaju    99   \n",
              "1        Rua Napoleão Dórea, 723 - Atalaia, Aracaju - SE  aracaju    70   \n",
              "2      Rua Maria Vasconcelos de Andrade, 1720 - Aruan...  aracaju    80   \n",
              "3                                    Luzia, Aracaju - SE  aracaju    67   \n",
              "4      Avenida São João Batista, 638 - Ponto Novo, Ar...  aracaju    70   \n",
              "...                                                  ...      ...   ...   \n",
              "17238             Rua 9, 544 - Setor Oeste, Goiânia - GO  goiania  None   \n",
              "17239             Rua 9, 544 - Setor Oeste, Goiânia - GO  goiania  None   \n",
              "17240             Rua 9, 544 - Setor Oeste, Goiânia - GO  goiania  None   \n",
              "17241             Rua 9, 544 - Setor Oeste, Goiânia - GO  goiania  None   \n",
              "17242             Rua 9, 544 - Setor Oeste, Goiânia - GO  goiania  None   \n",
              "\n",
              "           rooms    bathrooms  garage  \\\n",
              "0      4 Quartos  2 Banheiros  1 Vaga   \n",
              "1      3 Quartos  2 Banheiros  1 Vaga   \n",
              "2      3 Quartos  2 Banheiros  1 Vaga   \n",
              "3      2 Quartos   1 Banheiro  1 Vaga   \n",
              "4      3 Quartos   1 Banheiro  1 Vaga   \n",
              "...          ...          ...     ...   \n",
              "17238       None         None    None   \n",
              "17239       None         None    None   \n",
              "17240       None         None    None   \n",
              "17241       None         None    None   \n",
              "17242       None         None    None   \n",
              "\n",
              "                                                amenites       price_rent  \\\n",
              "0      Mobiliado Condomínio_fechado Aceita_animais Ar...    R$ 1.500 /mês   \n",
              "1      Piscina Mobiliado Elevador Aceita_animais Ar-c...  R$ 220.000 /mês   \n",
              "2      Piscina Churrasqueira Elevador Condomínio_fech...      R$ 750 /mês   \n",
              "3      Piscina Churrasqueira Playground Salão_de_fest...    R$ 1.250 /mês   \n",
              "4      Piscina Mobiliado Churrasqueira Condomínio_fec...    R$ 1.200 /mês   \n",
              "...                                                  ...              ...   \n",
              "17238                                               None             None   \n",
              "17239                                               None             None   \n",
              "17240                                               None             None   \n",
              "17241                                               None             None   \n",
              "17242                                               None             None   \n",
              "\n",
              "        condo        crawled_at  \n",
              "0        None  2022-06-23 21:10  \n",
              "1      R$ 450  2022-06-23 21:10  \n",
              "2      R$ 400  2022-06-23 21:10  \n",
              "3      R$ 395  2022-06-23 21:10  \n",
              "4      R$ 380  2022-06-23 21:10  \n",
              "...       ...               ...  \n",
              "17238    None  2022-06-23 22:21  \n",
              "17239    None  2022-06-23 22:21  \n",
              "17240    None  2022-06-23 22:21  \n",
              "17241    None  2022-06-23 22:21  \n",
              "17242    None  2022-06-23 22:21  \n",
              "\n",
              "[17243 rows x 10 columns]"
            ],
            "text/html": [
              "\n",
              "  <div id=\"df-8184a7ea-aa97-4092-8409-6720e884f72d\">\n",
              "    <div class=\"colab-df-container\">\n",
              "      <div>\n",
              "<style scoped>\n",
              "    .dataframe tbody tr th:only-of-type {\n",
              "        vertical-align: middle;\n",
              "    }\n",
              "\n",
              "    .dataframe tbody tr th {\n",
              "        vertical-align: top;\n",
              "    }\n",
              "\n",
              "    .dataframe thead th {\n",
              "        text-align: right;\n",
              "    }\n",
              "</style>\n",
              "<table border=\"1\" class=\"dataframe\">\n",
              "  <thead>\n",
              "    <tr style=\"text-align: right;\">\n",
              "      <th></th>\n",
              "      <th>address</th>\n",
              "      <th>city</th>\n",
              "      <th>area</th>\n",
              "      <th>rooms</th>\n",
              "      <th>bathrooms</th>\n",
              "      <th>garage</th>\n",
              "      <th>amenites</th>\n",
              "      <th>price_rent</th>\n",
              "      <th>condo</th>\n",
              "      <th>crawled_at</th>\n",
              "    </tr>\n",
              "  </thead>\n",
              "  <tbody>\n",
              "    <tr>\n",
              "      <th>0</th>\n",
              "      <td>Rua Professor José Freitas de Andrade, 428 - C...</td>\n",
              "      <td>aracaju</td>\n",
              "      <td>99</td>\n",
              "      <td>4 Quartos</td>\n",
              "      <td>2 Banheiros</td>\n",
              "      <td>1 Vaga</td>\n",
              "      <td>Mobiliado Condomínio_fechado Aceita_animais Ar...</td>\n",
              "      <td>R$ 1.500 /mês</td>\n",
              "      <td>None</td>\n",
              "      <td>2022-06-23 21:10</td>\n",
              "    </tr>\n",
              "    <tr>\n",
              "      <th>1</th>\n",
              "      <td>Rua Napoleão Dórea, 723 - Atalaia, Aracaju - SE</td>\n",
              "      <td>aracaju</td>\n",
              "      <td>70</td>\n",
              "      <td>3 Quartos</td>\n",
              "      <td>2 Banheiros</td>\n",
              "      <td>1 Vaga</td>\n",
              "      <td>Piscina Mobiliado Elevador Aceita_animais Ar-c...</td>\n",
              "      <td>R$ 220.000 /mês</td>\n",
              "      <td>R$ 450</td>\n",
              "      <td>2022-06-23 21:10</td>\n",
              "    </tr>\n",
              "    <tr>\n",
              "      <th>2</th>\n",
              "      <td>Rua Maria Vasconcelos de Andrade, 1720 - Aruan...</td>\n",
              "      <td>aracaju</td>\n",
              "      <td>80</td>\n",
              "      <td>3 Quartos</td>\n",
              "      <td>2 Banheiros</td>\n",
              "      <td>1 Vaga</td>\n",
              "      <td>Piscina Churrasqueira Elevador Condomínio_fech...</td>\n",
              "      <td>R$ 750 /mês</td>\n",
              "      <td>R$ 400</td>\n",
              "      <td>2022-06-23 21:10</td>\n",
              "    </tr>\n",
              "    <tr>\n",
              "      <th>3</th>\n",
              "      <td>Luzia, Aracaju - SE</td>\n",
              "      <td>aracaju</td>\n",
              "      <td>67</td>\n",
              "      <td>2 Quartos</td>\n",
              "      <td>1 Banheiro</td>\n",
              "      <td>1 Vaga</td>\n",
              "      <td>Piscina Churrasqueira Playground Salão_de_fest...</td>\n",
              "      <td>R$ 1.250 /mês</td>\n",
              "      <td>R$ 395</td>\n",
              "      <td>2022-06-23 21:10</td>\n",
              "    </tr>\n",
              "    <tr>\n",
              "      <th>4</th>\n",
              "      <td>Avenida São João Batista, 638 - Ponto Novo, Ar...</td>\n",
              "      <td>aracaju</td>\n",
              "      <td>70</td>\n",
              "      <td>3 Quartos</td>\n",
              "      <td>1 Banheiro</td>\n",
              "      <td>1 Vaga</td>\n",
              "      <td>Piscina Mobiliado Churrasqueira Condomínio_fec...</td>\n",
              "      <td>R$ 1.200 /mês</td>\n",
              "      <td>R$ 380</td>\n",
              "      <td>2022-06-23 21:10</td>\n",
              "    </tr>\n",
              "    <tr>\n",
              "      <th>...</th>\n",
              "      <td>...</td>\n",
              "      <td>...</td>\n",
              "      <td>...</td>\n",
              "      <td>...</td>\n",
              "      <td>...</td>\n",
              "      <td>...</td>\n",
              "      <td>...</td>\n",
              "      <td>...</td>\n",
              "      <td>...</td>\n",
              "      <td>...</td>\n",
              "    </tr>\n",
              "    <tr>\n",
              "      <th>17238</th>\n",
              "      <td>Rua 9, 544 - Setor Oeste, Goiânia - GO</td>\n",
              "      <td>goiania</td>\n",
              "      <td>None</td>\n",
              "      <td>None</td>\n",
              "      <td>None</td>\n",
              "      <td>None</td>\n",
              "      <td>None</td>\n",
              "      <td>None</td>\n",
              "      <td>None</td>\n",
              "      <td>2022-06-23 22:21</td>\n",
              "    </tr>\n",
              "    <tr>\n",
              "      <th>17239</th>\n",
              "      <td>Rua 9, 544 - Setor Oeste, Goiânia - GO</td>\n",
              "      <td>goiania</td>\n",
              "      <td>None</td>\n",
              "      <td>None</td>\n",
              "      <td>None</td>\n",
              "      <td>None</td>\n",
              "      <td>None</td>\n",
              "      <td>None</td>\n",
              "      <td>None</td>\n",
              "      <td>2022-06-23 22:21</td>\n",
              "    </tr>\n",
              "    <tr>\n",
              "      <th>17240</th>\n",
              "      <td>Rua 9, 544 - Setor Oeste, Goiânia - GO</td>\n",
              "      <td>goiania</td>\n",
              "      <td>None</td>\n",
              "      <td>None</td>\n",
              "      <td>None</td>\n",
              "      <td>None</td>\n",
              "      <td>None</td>\n",
              "      <td>None</td>\n",
              "      <td>None</td>\n",
              "      <td>2022-06-23 22:21</td>\n",
              "    </tr>\n",
              "    <tr>\n",
              "      <th>17241</th>\n",
              "      <td>Rua 9, 544 - Setor Oeste, Goiânia - GO</td>\n",
              "      <td>goiania</td>\n",
              "      <td>None</td>\n",
              "      <td>None</td>\n",
              "      <td>None</td>\n",
              "      <td>None</td>\n",
              "      <td>None</td>\n",
              "      <td>None</td>\n",
              "      <td>None</td>\n",
              "      <td>2022-06-23 22:21</td>\n",
              "    </tr>\n",
              "    <tr>\n",
              "      <th>17242</th>\n",
              "      <td>Rua 9, 544 - Setor Oeste, Goiânia - GO</td>\n",
              "      <td>goiania</td>\n",
              "      <td>None</td>\n",
              "      <td>None</td>\n",
              "      <td>None</td>\n",
              "      <td>None</td>\n",
              "      <td>None</td>\n",
              "      <td>None</td>\n",
              "      <td>None</td>\n",
              "      <td>2022-06-23 22:21</td>\n",
              "    </tr>\n",
              "  </tbody>\n",
              "</table>\n",
              "<p>17243 rows × 10 columns</p>\n",
              "</div>\n",
              "      <button class=\"colab-df-convert\" onclick=\"convertToInteractive('df-8184a7ea-aa97-4092-8409-6720e884f72d')\"\n",
              "              title=\"Convert this dataframe to an interactive table.\"\n",
              "              style=\"display:none;\">\n",
              "        \n",
              "  <svg xmlns=\"http://www.w3.org/2000/svg\" height=\"24px\"viewBox=\"0 0 24 24\"\n",
              "       width=\"24px\">\n",
              "    <path d=\"M0 0h24v24H0V0z\" fill=\"none\"/>\n",
              "    <path d=\"M18.56 5.44l.94 2.06.94-2.06 2.06-.94-2.06-.94-.94-2.06-.94 2.06-2.06.94zm-11 1L8.5 8.5l.94-2.06 2.06-.94-2.06-.94L8.5 2.5l-.94 2.06-2.06.94zm10 10l.94 2.06.94-2.06 2.06-.94-2.06-.94-.94-2.06-.94 2.06-2.06.94z\"/><path d=\"M17.41 7.96l-1.37-1.37c-.4-.4-.92-.59-1.43-.59-.52 0-1.04.2-1.43.59L10.3 9.45l-7.72 7.72c-.78.78-.78 2.05 0 2.83L4 21.41c.39.39.9.59 1.41.59.51 0 1.02-.2 1.41-.59l7.78-7.78 2.81-2.81c.8-.78.8-2.07 0-2.86zM5.41 20L4 18.59l7.72-7.72 1.47 1.35L5.41 20z\"/>\n",
              "  </svg>\n",
              "      </button>\n",
              "      \n",
              "  <style>\n",
              "    .colab-df-container {\n",
              "      display:flex;\n",
              "      flex-wrap:wrap;\n",
              "      gap: 12px;\n",
              "    }\n",
              "\n",
              "    .colab-df-convert {\n",
              "      background-color: #E8F0FE;\n",
              "      border: none;\n",
              "      border-radius: 50%;\n",
              "      cursor: pointer;\n",
              "      display: none;\n",
              "      fill: #1967D2;\n",
              "      height: 32px;\n",
              "      padding: 0 0 0 0;\n",
              "      width: 32px;\n",
              "    }\n",
              "\n",
              "    .colab-df-convert:hover {\n",
              "      background-color: #E2EBFA;\n",
              "      box-shadow: 0px 1px 2px rgba(60, 64, 67, 0.3), 0px 1px 3px 1px rgba(60, 64, 67, 0.15);\n",
              "      fill: #174EA6;\n",
              "    }\n",
              "\n",
              "    [theme=dark] .colab-df-convert {\n",
              "      background-color: #3B4455;\n",
              "      fill: #D2E3FC;\n",
              "    }\n",
              "\n",
              "    [theme=dark] .colab-df-convert:hover {\n",
              "      background-color: #434B5C;\n",
              "      box-shadow: 0px 1px 3px 1px rgba(0, 0, 0, 0.15);\n",
              "      filter: drop-shadow(0px 1px 2px rgba(0, 0, 0, 0.3));\n",
              "      fill: #FFFFFF;\n",
              "    }\n",
              "  </style>\n",
              "\n",
              "      <script>\n",
              "        const buttonEl =\n",
              "          document.querySelector('#df-8184a7ea-aa97-4092-8409-6720e884f72d button.colab-df-convert');\n",
              "        buttonEl.style.display =\n",
              "          google.colab.kernel.accessAllowed ? 'block' : 'none';\n",
              "\n",
              "        async function convertToInteractive(key) {\n",
              "          const element = document.querySelector('#df-8184a7ea-aa97-4092-8409-6720e884f72d');\n",
              "          const dataTable =\n",
              "            await google.colab.kernel.invokeFunction('convertToInteractive',\n",
              "                                                     [key], {});\n",
              "          if (!dataTable) return;\n",
              "\n",
              "          const docLinkHtml = 'Like what you see? Visit the ' +\n",
              "            '<a target=\"_blank\" href=https://colab.research.google.com/notebooks/data_table.ipynb>data table notebook</a>'\n",
              "            + ' to learn more about interactive tables.';\n",
              "          element.innerHTML = '';\n",
              "          dataTable['output_type'] = 'display_data';\n",
              "          await google.colab.output.renderOutput(dataTable, element);\n",
              "          const docLink = document.createElement('div');\n",
              "          docLink.innerHTML = docLinkHtml;\n",
              "          element.appendChild(docLink);\n",
              "        }\n",
              "      </script>\n",
              "    </div>\n",
              "  </div>\n",
              "  "
            ]
          },
          "metadata": {},
          "execution_count": 34
        }
      ]
    },
    {
      "cell_type": "code",
      "source": [
        "from google.colab import drive\n",
        "\n",
        "drive.mount('/content/drive')\n",
        "path = '/content/drive/MyDrive/data_science/capitais_aluguel_venda.csv'\n",
        "\n",
        "with open(path, 'w', encoding = 'utf-8-sig') as f:\n",
        "  df.to_csv(f)"
      ],
      "metadata": {
        "colab": {
          "base_uri": "https://localhost:8080/"
        },
        "id": "XzM8BOX2BUf4",
        "outputId": "3625ef74-1362-4edd-d26f-a890fd54981b"
      },
      "execution_count": null,
      "outputs": [
        {
          "output_type": "stream",
          "name": "stdout",
          "text": [
            "Mounted at /content/drive\n"
          ]
        }
      ]
    }
  ]
}
